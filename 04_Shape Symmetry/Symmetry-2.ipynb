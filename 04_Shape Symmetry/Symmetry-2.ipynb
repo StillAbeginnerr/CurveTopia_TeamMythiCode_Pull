{
  "cells": [
    {
      "cell_type": "code",
      "execution_count": 10,
      "metadata": {
        "id": "mnhektle_Mcv"
      },
      "outputs": [],
      "source": [
        "import cv2\n",
        "import numpy as np\n",
        "import matplotlib.pyplot as plt\n",
        "import os"
      ]
    },
    {
      "cell_type": "code",
      "execution_count": 11,
      "metadata": {
        "id": "t5VCCWud_Riw"
      },
      "outputs": [],
      "source": [
        "def preprocess_image(image_path):\n",
        "    # Check if the file exists\n",
        "    if not os.path.exists(image_path):\n",
        "        raise ValueError(f\"Image file does not exist at path: {image_path}\")\n",
        "\n",
        "    # Read the image in grayscale\n",
        "    image = cv2.imread(image_path, cv2.IMREAD_GRAYSCALE)\n",
        "    if image is None:\n",
        "        raise ValueError(f\"Image at path {image_path} could not be loaded.\")\n",
        "\n",
        "    # Threshold the image to binary\n",
        "    _, binary_image = cv2.threshold(image, 128, 255, cv2.THRESH_BINARY_INV)\n",
        "    return binary_image"
      ]
    },
    {
      "cell_type": "code",
      "execution_count": 12,
      "metadata": {
        "id": "30NTrl_F_TtH"
      },
      "outputs": [],
      "source": [
        "def find_contours(binary_image):\n",
        "    # Find contours in the binary image\n",
        "    contours, _ = cv2.findContours(binary_image, cv2.RETR_EXTERNAL, cv2.CHAIN_APPROX_SIMPLE)\n",
        "    return contours"
      ]
    },
    {
      "cell_type": "code",
      "execution_count": 13,
      "metadata": {
        "id": "jJvdURAc_Xnf"
      },
      "outputs": [],
      "source": [
        "def detect_symmetry_for_shape(contour, binary_image):\n",
        "    best_symmetry_line = None\n",
        "    highest_accuracy = 0\n",
        "\n",
        "    if len(contour) >= 5:\n",
        "        ellipse = cv2.fitEllipse(contour)\n",
        "        center, axes, angle = ellipse\n",
        "        vertical_line = ((int(center[0]), 0), (int(center[0]), binary_image.shape[0]))\n",
        "        horizontal_line = ((0, int(center[1])), (binary_image.shape[1], int(center[1])))\n",
        "\n",
        "        vertical_accuracy = calculate_symmetry_accuracy(contour, vertical_line)\n",
        "        horizontal_accuracy = calculate_symmetry_accuracy(contour, horizontal_line)\n",
        "\n",
        "        if vertical_accuracy > highest_accuracy:\n",
        "            highest_accuracy = vertical_accuracy\n",
        "            best_symmetry_line = vertical_line\n",
        "        if horizontal_accuracy > highest_accuracy:\n",
        "            highest_accuracy = horizontal_accuracy\n",
        "            best_symmetry_line = horizontal_line\n",
        "\n",
        "    return best_symmetry_line, highest_accuracy"
      ]
    },
    {
      "cell_type": "code",
      "execution_count": 14,
      "metadata": {
        "id": "bXXil_6-_a6J"
      },
      "outputs": [],
      "source": [
        "def calculate_symmetry_accuracy(contour, line):\n",
        "    # Dummy implementation for now. Replace with actual accuracy calculation.\n",
        "    return np.random.rand()\n",
        "\n",
        "def draw_symmetry_line(image, line):\n",
        "    if line:\n",
        "        pt1, pt2 = line\n",
        "        cv2.line(image, pt1, pt2, (0, 255, 0), 2)"
      ]
    },
    {
      "cell_type": "code",
      "execution_count": 19,
      "metadata": {
        "id": "_DKvkujp_eFk"
      },
      "outputs": [],
      "source": [
        "def main(image_path):\n",
        "    binary_image = preprocess_image(image_path)\n",
        "    contours = find_contours(binary_image)\n",
        "\n",
        "    total_symmetry_count = 0\n",
        "    for contour in contours:\n",
        "        best_symmetry_line, highest_accuracy = detect_symmetry_for_shape(contour, binary_image)\n",
        "        if best_symmetry_line:\n",
        "            draw_symmetry_line(binary_image, best_symmetry_line)\n",
        "            total_symmetry_count += 1\n",
        "            print(f\"Detected symmetry line with accuracy {highest_accuracy}\")\n",
        "\n",
        "    print(f\"Total number of symmetries detected: {total_symmetry_count}\")\n",
        "\n",
        "    original_image = cv2.imread(image_path)\n",
        "    if original_image is None:\n",
        "        raise ValueError(f\"Image at path {image_path} could not be loaded.\")\n",
        "\n",
        "    # Draw all the symmetry lines on the original image\n",
        "    for contour in contours:\n",
        "        best_symmetry_line, _ = detect_symmetry_for_shape(contour, binary_image)\n",
        "        draw_symmetry_line(original_image, best_symmetry_line)\n",
        "\n",
        "    output_path = \"output_image.png\"\n",
        "    cv2.imwrite(output_path, original_image)\n",
        "    print(f\"Output image saved to {output_path}\")\n",
        "\n",
        "    img_rgb = cv2.cvtColor(original_image, cv2.COLOR_BGR2RGB)\n",
        "    plt.imshow(img_rgb)\n",
        "    plt.title(\"Symmetry Detection\")\n",
        "    plt.axis('off')\n",
        "    plt.show()"
      ]
    },
    {
      "cell_type": "code",
      "execution_count": 29,
      "metadata": {
        "colab": {
          "base_uri": "https://localhost:8080/",
          "height": 462
        },
        "id": "bGWXdTry_g1O",
        "outputId": "13d09062-27e1-4dc2-f4e6-6a3a572f5de7"
      },
      "outputs": [
        {
          "name": "stdout",
          "output_type": "stream",
          "text": [
            "Total number of symmetries detected: 0\n",
            "Output image saved to output_image.png\n"
          ]
        },
        {
          "data": {
            "image/png": "[encoded data removed]",
            "text/plain": [
              "<Figure size 640x480 with 1 Axes>"
            ]
          },
          "metadata": {},
          "output_type": "display_data"
        }
      ],
      "source": [
        "if __name__ == \"__main__\":\n",
        "    main(r\"result.png\")"
      ]
    }
  ],
  "metadata": {
    "colab": {
      "provenance": []
    },
    "kernelspec": {
      "display_name": "Python 3",
      "name": "python3"
    },
    "language_info": {
      "name": "python"
    }
  },
  "nbformat": 4,
  "nbformat_minor": 0
}
